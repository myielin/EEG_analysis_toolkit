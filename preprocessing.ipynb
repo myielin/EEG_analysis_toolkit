{
  "nbformat": 4,
  "nbformat_minor": 0,
  "metadata": {
    "colab": {
      "provenance": [],
      "collapsed_sections": [
        "-BdzxTOxlXmF"
      ],
      "mount_file_id": "1tmIbHHfQzIQL1IZKLZS6u_Wvo-1u9J7e",
      "authorship_tag": "ABX9TyNHK/W8TbCkn1Fo14OW+IzB",
      "include_colab_link": true
    },
    "kernelspec": {
      "name": "python3",
      "display_name": "Python 3"
    },
    "language_info": {
      "name": "python"
    }
  },
  "cells": [
    {
      "cell_type": "markdown",
      "metadata": {
        "id": "view-in-github",
        "colab_type": "text"
      },
      "source": [
        "<a href=\"https://colab.research.google.com/github/myielin/EEG_analysis_toolkit/blob/main/preprocessing.ipynb\" target=\"_parent\"><img src=\"https://colab.research.google.com/assets/colab-badge.svg\" alt=\"Open In Colab\"/></a>"
      ]
    },
    {
      "cell_type": "markdown",
      "source": [
        "# Preprocessing\n",
        "\n",
        "standard pipeline: set a generic electrode montage, set annotations from a CSV file, filter and exclude noisy components via ICA.\n",
        "\n",
        "Download this file in File -> Download (upper left corner) to use it"
      ],
      "metadata": {
        "id": "UPgg9aXrk-LG"
      }
    },
    {
      "cell_type": "markdown",
      "source": [
        "### 1.\n",
        "installs and imports"
      ],
      "metadata": {
        "id": "-BdzxTOxlXmF"
      }
    },
    {
      "cell_type": "code",
      "execution_count": null,
      "metadata": {
        "id": "iF_EVmzlN-ya",
        "collapsed": true
      },
      "outputs": [],
      "source": [
        "!pip install mne\n",
        "!pip install mne-icalabel"
      ]
    },
    {
      "cell_type": "code",
      "source": [
        "import mne\n",
        "import warnings\n",
        "warnings.filterwarnings(\"ignore\")\n",
        "\n",
        "import numpy as np\n",
        "from pandas import read_csv\n",
        "from sklearn.preprocessing import OneHotEncoder as ohe\n",
        "from numpy.lib.stride_tricks import sliding_window_view\n",
        "import matplotlib.pyplot as plt\n",
        "import mne_icalabel\n"
      ],
      "metadata": {
        "id": "zx1LDaTfhWty"
      },
      "execution_count": null,
      "outputs": []
    },
    {
      "cell_type": "markdown",
      "source": [
        "### 2.\n",
        "Define functions"
      ],
      "metadata": {
        "id": "BQUjMDWXliq6"
      }
    },
    {
      "cell_type": "code",
      "source": [
        "def set_stnd_mon(data, mon='standard_1020'):\n",
        "  mne.channels.make_standard_montage(mon)\n",
        "  data.set_montage(mon)\n",
        "  return data"
      ],
      "metadata": {
        "id": "YRJtowpzI1p_"
      },
      "execution_count": null,
      "outputs": []
    },
    {
      "cell_type": "code",
      "source": [
        "def create_csv_annotations(fname, dur=2, desc=\"mark\"):\n",
        "  anns_csv = read_csv(fname).values.reshape(-1)\n",
        "  ann_arr = np.array([int(i[3:5]) + int(i[:2])*60 for i in anns_csv])\n",
        "\n",
        "  return mne.Annotations(ann_arr, dur, desc)\n"
      ],
      "metadata": {
        "id": "LOV-vobWV0oZ"
      },
      "execution_count": null,
      "outputs": []
    },
    {
      "cell_type": "code",
      "source": [
        "def preprocess(data,lfreq=1, hfreq=80, notch=60, ica=True):\n",
        "  data = data.filter(l_freq=lfreq, h_freq=hfreq, picks='all')\n",
        "  data = data.notch_filter(notch, picks='all')\n",
        "  if ica:\n",
        "    c = mne.preprocessing.ICA(n_components=len(data.ch_names), max_iter=\"auto\", method=\"infomax\", fit_params=dict(extended=True))\n",
        "    c.fit(data, picks='all')\n",
        "\n",
        "    components = mne_icalabel.label_components(data, c, method='iclabel')\n",
        "    print(f\"\\n\\nICA components: {components['labels']}\\nCertainty: {components['y_pred_proba']}\")\n",
        "    # component removal will be carried on if the component is classified as an artifact with more than 90% probability\n",
        "    artifact_indexes = [i for i in range(len(data.ch_names)) if components['y_pred_proba'][i] > 0.9 and components['labels'][i] != 'brain']\n",
        "    c.exclude = artifact_indexes\n",
        "    print(\"\\nRemoved artifacts:: \", artifact_indexes)\n",
        "\n",
        "  return data\n"
      ],
      "metadata": {
        "id": "yLdnUWKp7HTv"
      },
      "execution_count": null,
      "outputs": []
    },
    {
      "cell_type": "markdown",
      "source": [
        "### 3.\n",
        "Execute the appropriate functions"
      ],
      "metadata": {
        "id": "A6cuuqs6mQu8"
      }
    },
    {
      "cell_type": "markdown",
      "source": [
        "First, you will have to set the data path (or use the standard data path from the repo) and basic information. Notice that ch_names have to be compatible with the standard montage that will be used. Comment the second line if the data already has its info set by default"
      ],
      "metadata": {
        "id": "d8Ut117amkFd"
      }
    },
    {
      "cell_type": "code",
      "source": [
        "p = \"/content/drive/MyDrive/tcc/data/\"\n",
        "info = mne.create_info(ch_names = ['P4', 'P3', 'Fp2', 'Fp1'], sfreq = 200, ch_types='eeg')"
      ],
      "metadata": {
        "id": "vey86Ylm4adS"
      },
      "execution_count": null,
      "outputs": []
    },
    {
      "cell_type": "markdown",
      "source": [
        "Then, the data is loaded as a mne object. In this example, the raw data comes as a CSV file, so if your is of another file type you can delete the first line and use mne.io.read_raw() in the second one. See more in https://mne.tools/stable/generated/mne.io.read_raw.html#mne.io.read_raw\n",
        "\n",
        "The last line adds annotations from a CSV file in the pattern mins:secs:ms (so an annotation like 01:04:00 means an event occured 1min and 4secs after the beggining of the recording). Refer to default parameters in the function definition above or remove this line if it doesen't apply to the context\n"
      ],
      "metadata": {
        "id": "6loq87KZoDNk"
      }
    },
    {
      "cell_type": "code",
      "source": [
        "raw_train = read_csv(p+\"sampleEEG2.txt\")[[' EXG Channel 0', ' EXG Channel 1', ' EXG Channel 2', ' EXG Channel 3']].values.T\n",
        "mne_train = mne.io.RawArray(raw_train, info)\n",
        "\n",
        "annotated = mne_train.set_annotations(create_csv_annotations(p+\"sampleEVS2.csv\", 1))"
      ],
      "metadata": {
        "colab": {
          "base_uri": "https://localhost:8080/"
        },
        "id": "GCjCBPY75glq",
        "outputId": "eeb8685b-ce96-4678-d421-f61fe64e0408"
      },
      "execution_count": null,
      "outputs": [
        {
          "output_type": "stream",
          "name": "stdout",
          "text": [
            "Creating RawArray with float64 data, n_channels=4, n_times=170020\n",
            "    Range : 0 ... 170019 =      0.000 ...   850.095 secs\n",
            "Ready.\n"
          ]
        }
      ]
    },
    {
      "cell_type": "markdown",
      "source": [
        "For the preprocessing pipeline, first the standard electrode scheme is set. Remove this line if the data already has a montage. Then, the preprocess function applies notch, lowpass and highpass filters, followed by removal of noisy components. Refer to the default parameters in the function definition above.\n",
        "\n",
        "**Standard montage list:** These are the standard electrode positioning schemes from MNE. You can choose one and use as argument to the set_stnd_mon function. If no argument is passed the 10-20 scheme will be used.\n",
        "\n",
        "`\n",
        "'standard_1005', 'standard_1020', 'standard_alphabetic', 'standard_postfixed', 'standard_prefixed', 'standard_primed',\n",
        " 'biosemi16', 'biosemi32',\n",
        " 'biosemi64', 'biosemi128',\n",
        " 'biosemi160', 'biosemi256',\n",
        " 'easycap-M1', 'easycap-M10',\n",
        " 'easycap-M43', 'EGI_256',\n",
        " 'GSN-HydroCel-32', 'GSN-HydroCel-64_1.0',\n",
        " 'GSN-HydroCel-65_1.0',\n",
        " 'GSN-HydroCel-128',\n",
        " 'GSN-HydroCel-129',\n",
        " 'GSN-HydroCel-256',\n",
        " 'GSN-HydroCel-257',\n",
        " 'mgh60',\n",
        " 'mgh70',\n",
        " 'artinis-octamon',\n",
        " 'artinis-brite23',\n",
        " 'brainproducts-RNP-BA-128'\n",
        " `"
      ],
      "metadata": {
        "id": "xj60q-DkKN2i"
      }
    },
    {
      "cell_type": "code",
      "source": [
        "train_processed = set_stnd_mon(mne_train, mon='standard_1020')\n",
        "train_processed = preprocess(mne_train)"
      ],
      "metadata": {
        "colab": {
          "base_uri": "https://localhost:8080/"
        },
        "id": "5Ta6RZxGDRWk",
        "outputId": "4fbcc35a-09c4-4003-92f5-486e867923e7"
      },
      "execution_count": null,
      "outputs": [
        {
          "output_type": "stream",
          "name": "stdout",
          "text": [
            "Filtering raw data in 1 contiguous segment\n",
            "Setting up band-pass filter from 1 - 80 Hz\n",
            "\n",
            "FIR filter parameters\n",
            "---------------------\n",
            "Designing a one-pass, zero-phase, non-causal bandpass filter:\n",
            "- Windowed time-domain design (firwin) method\n",
            "- Hamming window with 0.0194 passband ripple and 53 dB stopband attenuation\n",
            "- Lower passband edge: 1.00\n",
            "- Lower transition bandwidth: 1.00 Hz (-6 dB cutoff frequency: 0.50 Hz)\n",
            "- Upper passband edge: 80.00 Hz\n",
            "- Upper transition bandwidth: 20.00 Hz (-6 dB cutoff frequency: 90.00 Hz)\n",
            "- Filter length: 661 samples (3.305 s)\n",
            "\n",
            "Filtering raw data in 1 contiguous segment\n",
            "Setting up band-stop filter from 59 - 61 Hz\n",
            "\n",
            "FIR filter parameters\n",
            "---------------------\n",
            "Designing a one-pass, zero-phase, non-causal bandstop filter:\n",
            "- Windowed time-domain design (firwin) method\n",
            "- Hamming window with 0.0194 passband ripple and 53 dB stopband attenuation\n",
            "- Lower passband edge: 59.35\n",
            "- Lower transition bandwidth: 0.50 Hz (-6 dB cutoff frequency: 59.10 Hz)\n",
            "- Upper passband edge: 60.65 Hz\n",
            "- Upper transition bandwidth: 0.50 Hz (-6 dB cutoff frequency: 60.90 Hz)\n",
            "- Filter length: 1321 samples (6.605 s)\n",
            "\n",
            "Fitting ICA to data using 4 channels (please be patient, this may take a while)\n",
            "Selecting by number: 4 components\n",
            "Computing Extended Infomax ICA\n",
            "Fitting ICA took 16.3s.\n",
            "\n",
            "\n",
            "ICA components: ['brain', 'brain', 'eye blink', 'brain']\n",
            "Certainty: [0.8577409  0.55574167 0.44268942 0.78483737]\n",
            "\n",
            "Removed artifacts::  []\n"
          ]
        }
      ]
    },
    {
      "cell_type": "markdown",
      "source": [
        "Finally, you can save the preprocessed data to use in practical analyses. The saving path is the same as provided for data loading, but it can be changed by updating the value of the variable p."
      ],
      "metadata": {
        "id": "WTeJqlTmqous"
      }
    },
    {
      "cell_type": "code",
      "source": [
        "annotated.save(fname=p+\"train1.fif\", overwrite=True)"
      ],
      "metadata": {
        "colab": {
          "base_uri": "https://localhost:8080/"
        },
        "id": "iZji9y5aes0x",
        "outputId": "ab90773e-e3ab-465e-9eab-83d15a020cb7"
      },
      "execution_count": null,
      "outputs": [
        {
          "output_type": "stream",
          "name": "stdout",
          "text": [
            "Writing /content/drive/MyDrive/tcc/data/train1.fif\n",
            "Closing /content/drive/MyDrive/tcc/data/train1.fif\n",
            "[done]\n"
          ]
        },
        {
          "output_type": "execute_result",
          "data": {
            "text/plain": [
              "[PosixPath('/content/drive/MyDrive/tcc/data/train1.fif')]"
            ]
          },
          "metadata": {},
          "execution_count": 136
        }
      ]
    }
  ]
}